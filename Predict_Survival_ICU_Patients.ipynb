{
 "cells": [
  {
   "cell_type": "markdown",
   "id": "b58e9bf9",
   "metadata": {},
   "source": [
    "# Predicting survival in the ICU\n",
    "\n",
    "- This aim of this notebook is to develop and optimise 3 machine learning models (logistic regression, decision tree and random forest) to predict the survival of each patient in the ICU\n",
    "- The data was taken from https://www.kaggle.com/datasets/ukveteran/icu-patients\n",
    "- There are 5 parts to this notebook, following the assignment instructions\n",
    "    1. Convert data to tidy format\n",
    "    2. Export normalised tables to an SQLite3 database\n",
    "    3. Visualisations\n",
    "    4. Developing and evaluating models\n",
    "    5. Summary of findings"
   ]
  },
  {
   "cell_type": "code",
   "execution_count": 1,
   "id": "12b6b2d3",
   "metadata": {},
   "outputs": [],
   "source": [
    "import pandas as pd\n",
    "import seaborn as sns\n",
    "import matplotlib.pyplot as plt\n",
    "import numpy as np\n",
    "import sqlite3"
   ]
  },
  {
   "cell_type": "code",
   "execution_count": 2,
   "id": "0e944a62",
   "metadata": {},
   "outputs": [],
   "source": [
    "df = pd.read_csv(\"ICU.csv\").drop(\"Unnamed: 0\", axis=1)"
   ]
  },
  {
   "cell_type": "code",
   "execution_count": 3,
   "id": "a4d5ca4d",
   "metadata": {},
   "outputs": [
    {
     "data": {
      "text/html": [
       "<div>\n",
       "<style scoped>\n",
       "    .dataframe tbody tr th:only-of-type {\n",
       "        vertical-align: middle;\n",
       "    }\n",
       "\n",
       "    .dataframe tbody tr th {\n",
       "        vertical-align: top;\n",
       "    }\n",
       "\n",
       "    .dataframe thead th {\n",
       "        text-align: right;\n",
       "    }\n",
       "</style>\n",
       "<table border=\"1\" class=\"dataframe\">\n",
       "  <thead>\n",
       "    <tr style=\"text-align: right;\">\n",
       "      <th></th>\n",
       "      <th>ID</th>\n",
       "      <th>Survive</th>\n",
       "      <th>Age</th>\n",
       "      <th>AgeGroup</th>\n",
       "      <th>Sex</th>\n",
       "      <th>Infection</th>\n",
       "      <th>SysBP</th>\n",
       "      <th>Pulse</th>\n",
       "      <th>Emergency</th>\n",
       "    </tr>\n",
       "  </thead>\n",
       "  <tbody>\n",
       "    <tr>\n",
       "      <th>0</th>\n",
       "      <td>4</td>\n",
       "      <td>0</td>\n",
       "      <td>87</td>\n",
       "      <td>3</td>\n",
       "      <td>1</td>\n",
       "      <td>1</td>\n",
       "      <td>80</td>\n",
       "      <td>96</td>\n",
       "      <td>1</td>\n",
       "    </tr>\n",
       "    <tr>\n",
       "      <th>1</th>\n",
       "      <td>8</td>\n",
       "      <td>1</td>\n",
       "      <td>27</td>\n",
       "      <td>1</td>\n",
       "      <td>1</td>\n",
       "      <td>1</td>\n",
       "      <td>142</td>\n",
       "      <td>88</td>\n",
       "      <td>1</td>\n",
       "    </tr>\n",
       "    <tr>\n",
       "      <th>2</th>\n",
       "      <td>12</td>\n",
       "      <td>1</td>\n",
       "      <td>59</td>\n",
       "      <td>2</td>\n",
       "      <td>0</td>\n",
       "      <td>0</td>\n",
       "      <td>112</td>\n",
       "      <td>80</td>\n",
       "      <td>1</td>\n",
       "    </tr>\n",
       "    <tr>\n",
       "      <th>3</th>\n",
       "      <td>14</td>\n",
       "      <td>1</td>\n",
       "      <td>77</td>\n",
       "      <td>3</td>\n",
       "      <td>0</td>\n",
       "      <td>0</td>\n",
       "      <td>100</td>\n",
       "      <td>70</td>\n",
       "      <td>0</td>\n",
       "    </tr>\n",
       "    <tr>\n",
       "      <th>4</th>\n",
       "      <td>27</td>\n",
       "      <td>0</td>\n",
       "      <td>76</td>\n",
       "      <td>3</td>\n",
       "      <td>1</td>\n",
       "      <td>1</td>\n",
       "      <td>128</td>\n",
       "      <td>90</td>\n",
       "      <td>1</td>\n",
       "    </tr>\n",
       "  </tbody>\n",
       "</table>\n",
       "</div>"
      ],
      "text/plain": [
       "   ID  Survive  Age  AgeGroup  Sex  Infection  SysBP  Pulse  Emergency\n",
       "0   4        0   87         3    1          1     80     96          1\n",
       "1   8        1   27         1    1          1    142     88          1\n",
       "2  12        1   59         2    0          0    112     80          1\n",
       "3  14        1   77         3    0          0    100     70          0\n",
       "4  27        0   76         3    1          1    128     90          1"
      ]
     },
     "execution_count": 3,
     "metadata": {},
     "output_type": "execute_result"
    }
   ],
   "source": [
    "df.head()"
   ]
  },
  {
   "cell_type": "markdown",
   "id": "d73d313c",
   "metadata": {},
   "source": [
    "- There are 200 rows and 9 columns in this dataframe \n",
    "- The columns are: \n",
    "    - `ID`: Patient identifier\n",
    "    - `Age`: Patient's age in years\n",
    "    - `AgeGroup`: Patient's age group\n",
    "    - `Sex`: Patient's sex. Assume 0 = Male, 1 = Female\n",
    "    - `Infection`: Boolean value indicating presence of infection\n",
    "    - `SysBP`: Patient's systolic blood pressure in mmHg\n",
    "    - `Pulse`: Patient's heart rate in beats/minute\n",
    "    - `Emergency`: Boolean value indicating whether the patient was an emergency case\n",
    "    - `Survive`: Boolean value indicating if the patient survived. \n",
    "- The target label that we are trying to predict is `Survive`, where 0 = did not survive, and 1 = survive"
   ]
  },
  {
   "cell_type": "markdown",
   "id": "74b8360d",
   "metadata": {},
   "source": [
    "## 1. Convert data to tidy format"
   ]
  },
  {
   "cell_type": "markdown",
   "id": "3e296ad8",
   "metadata": {},
   "source": [
    "\n",
    "- The current dataset is not tidy because age information is represented in two columns - `Age` and `AgeGroup`\n",
    "- This leads to redundancy and potential inconsistencies\n",
    "- Hence `AgeGroup` column was dropped to ensure that data is in a tidy format"
   ]
  },
  {
   "cell_type": "code",
   "execution_count": 4,
   "id": "cf4da622",
   "metadata": {},
   "outputs": [],
   "source": [
    "df = df.drop(\"AgeGroup\", axis=1)"
   ]
  },
  {
   "cell_type": "markdown",
   "id": "20745fde",
   "metadata": {},
   "source": [
    "## 2. Export normalised tables in an SQLite3 database\n",
    "\n",
    "- The data was represented in a database (icu.db) with normalised tables\n",
    "- 3 tables were created in 3NF\n",
    "    1. Patient\n",
    "        - Columns: `id` (primary key), `age`, `sex`\n",
    "        - Each row represents 1 patient\n",
    "    2. Vital_Signs\n",
    "        - Columns: `id` (primary key), `visit_id` (foreign key to ICU_Visit.id), `systolic_bp`, `pulse_rate`\n",
    "        - Each row represents 1 instance of vital signs taking\n",
    "    3. ICU_Visit\n",
    "        - Columns: `id` (primary key), `patient_id` (foreign key to Patient.id), `infection`, `emergency`, `survival`\n",
    "        - Each row represents 1 ICU visit\n"
   ]
  },
  {
   "cell_type": "code",
   "execution_count": 5,
   "id": "90182ed4",
   "metadata": {},
   "outputs": [],
   "source": [
    "db_conn = sqlite3.connect(\"icu.db\")\n",
    "c = db_conn.cursor()"
   ]
  },
  {
   "cell_type": "code",
   "execution_count": 6,
   "id": "6b9ce234",
   "metadata": {},
   "outputs": [
    {
     "data": {
      "text/plain": [
       "<sqlite3.Cursor at 0x7fc1794af180>"
      ]
     },
     "execution_count": 6,
     "metadata": {},
     "output_type": "execute_result"
    }
   ],
   "source": [
    "# Create Patient table\n",
    "c.execute(\n",
    "    \"\"\"\n",
    "    CREATE TABLE IF NOT EXISTS Patient (\n",
    "        id INTEGER PRIMARY KEY,\n",
    "        age INTEGER,\n",
    "        sex INTEGER\n",
    "     )\n",
    "    \"\"\"\n",
    ")"
   ]
  },
  {
   "cell_type": "code",
   "execution_count": 7,
   "id": "324cd31b",
   "metadata": {},
   "outputs": [
    {
     "data": {
      "text/plain": [
       "<sqlite3.Cursor at 0x7fc1794af180>"
      ]
     },
     "execution_count": 7,
     "metadata": {},
     "output_type": "execute_result"
    }
   ],
   "source": [
    "# Create Vital_Sign table\n",
    "c.execute(\n",
    "    \"\"\"\n",
    "    CREATE TABLE IF NOT EXISTS Vital_Signs (\n",
    "        id INTEGER PRIMARY KEY,\n",
    "        visit_id INTEGER,\n",
    "        systolic_bp INTEGER,\n",
    "        pulse_rate INTEGER,\n",
    "        FOREIGN KEY (visit_id) REFERENCES ICU_Visit(id)\n",
    "    )\n",
    "    \"\"\"\n",
    ")"
   ]
  },
  {
   "cell_type": "code",
   "execution_count": 8,
   "id": "42672c20",
   "metadata": {
    "scrolled": true
   },
   "outputs": [
    {
     "data": {
      "text/plain": [
       "<sqlite3.Cursor at 0x7fc1794af180>"
      ]
     },
     "execution_count": 8,
     "metadata": {},
     "output_type": "execute_result"
    }
   ],
   "source": [
    "# Create ICU_Visit table\n",
    "c.execute(\n",
    "    \"\"\"\n",
    "    CREATE TABLE IF NOT EXISTS ICU_Visit (\n",
    "        id INTEGER PRIMARY KEY,\n",
    "        patient_id INTEGER,\n",
    "        infection BOOLEAN,\n",
    "        emergency BOOLEAN,\n",
    "        survival BOOLEAN,\n",
    "        FOREIGN KEY (patient_id) REFERENCES Patient(id)\n",
    "    )\n",
    "    \"\"\"\n",
    ")"
   ]
  },
  {
   "cell_type": "code",
   "execution_count": 9,
   "id": "ddbed6aa",
   "metadata": {},
   "outputs": [
    {
     "data": {
      "text/plain": [
       "200"
      ]
     },
     "execution_count": 9,
     "metadata": {},
     "output_type": "execute_result"
    }
   ],
   "source": [
    "# Insert data into Patient table\n",
    "patient_df = df.loc[:, ['ID', 'Age', 'Sex']]\n",
    "patient_df = patient_df.rename(columns={'ID': 'id', 'Age': 'age', 'Sex': 'sex'})\n",
    "patient_df.to_sql('Patient', db_conn, if_exists='replace', index=False)"
   ]
  },
  {
   "cell_type": "code",
   "execution_count": 10,
   "id": "fa6e29af",
   "metadata": {},
   "outputs": [
    {
     "data": {
      "text/plain": [
       "200"
      ]
     },
     "execution_count": 10,
     "metadata": {},
     "output_type": "execute_result"
    }
   ],
   "source": [
    "# Insert data into ICU_Visit table\n",
    "ICU_df = df.loc[:, ['ID', 'Infection', 'Emergency', 'Survive']]\n",
    "ICU_df = ICU_df.rename(columns={'ID': 'patient_id', 'Infection': 'infection', 'Emergency': 'emergency', 'Survive': 'survival'})\n",
    "ICU_df['id'] = range(1, len(ICU_df) + 1) # Include unique id\n",
    "ICU_df.to_sql('ICU_Visit', db_conn, if_exists='replace', index=False)\n"
   ]
  },
  {
   "cell_type": "code",
   "execution_count": 11,
   "id": "bfcd5040",
   "metadata": {},
   "outputs": [
    {
     "data": {
      "text/plain": [
       "200"
      ]
     },
     "execution_count": 11,
     "metadata": {},
     "output_type": "execute_result"
    }
   ],
   "source": [
    "# Insert data into Vital_Signs table\n",
    "VS_df = df.loc[:, ['SysBP', 'Pulse']]\n",
    "VS_df = VS_df.rename(columns={'SysBP': 'systolic_bp', 'Pulse': 'pulse_rate'})\n",
    "VS_df['id'] = range(1, len(VS_df) + 1) # Include unique id\n",
    "VS_df['visit_id'] = range(1, len(ICU_df) + 1)\n",
    "VS_df.to_sql('Vital_Signs', db_conn, if_exists='replace', index=False)\n"
   ]
  },
  {
   "cell_type": "code",
   "execution_count": 12,
   "id": "cd062085",
   "metadata": {
    "scrolled": false
   },
   "outputs": [],
   "source": [
    "# Close the connection\n",
    "db_conn.close()"
   ]
  },
  {
   "cell_type": "markdown",
   "id": "959cb4bd",
   "metadata": {},
   "source": [
    "## 3. Visualisations"
   ]
  },
  {
   "cell_type": "markdown",
   "id": "24506b18",
   "metadata": {},
   "source": [
    "- Visualisations were created to explore the dataset\n",
    "- The visualisations created focus on comparing survivors and non-survivors in the dataset, since this was the target label\n",
    "- SQL statements were used to retrieve data from the db for each visualisation"
   ]
  },
  {
   "cell_type": "code",
   "execution_count": 13,
   "id": "fa67e7a7",
   "metadata": {},
   "outputs": [],
   "source": [
    "db_conn = sqlite3.connect(\"icu.db\")\n",
    "c = db_conn.cursor()"
   ]
  },
  {
   "cell_type": "markdown",
   "id": "add3f105",
   "metadata": {},
   "source": [
    "### 3.1 Proportion of survivors vs non-survivors in the dataset"
   ]
  },
  {
   "cell_type": "code",
   "execution_count": 14,
   "id": "3806ec09",
   "metadata": {},
   "outputs": [
    {
     "data": {
      "text/html": [
       "<div>\n",
       "<style scoped>\n",
       "    .dataframe tbody tr th:only-of-type {\n",
       "        vertical-align: middle;\n",
       "    }\n",
       "\n",
       "    .dataframe tbody tr th {\n",
       "        vertical-align: top;\n",
       "    }\n",
       "\n",
       "    .dataframe thead th {\n",
       "        text-align: right;\n",
       "    }\n",
       "</style>\n",
       "<table border=\"1\" class=\"dataframe\">\n",
       "  <thead>\n",
       "    <tr style=\"text-align: right;\">\n",
       "      <th></th>\n",
       "      <th>survival</th>\n",
       "    </tr>\n",
       "  </thead>\n",
       "  <tbody>\n",
       "    <tr>\n",
       "      <th>0</th>\n",
       "      <td>0</td>\n",
       "    </tr>\n",
       "    <tr>\n",
       "      <th>1</th>\n",
       "      <td>1</td>\n",
       "    </tr>\n",
       "    <tr>\n",
       "      <th>2</th>\n",
       "      <td>1</td>\n",
       "    </tr>\n",
       "    <tr>\n",
       "      <th>3</th>\n",
       "      <td>1</td>\n",
       "    </tr>\n",
       "    <tr>\n",
       "      <th>4</th>\n",
       "      <td>0</td>\n",
       "    </tr>\n",
       "  </tbody>\n",
       "</table>\n",
       "</div>"
      ],
      "text/plain": [
       "   survival\n",
       "0         0\n",
       "1         1\n",
       "2         1\n",
       "3         1\n",
       "4         0"
      ]
     },
     "execution_count": 14,
     "metadata": {},
     "output_type": "execute_result"
    }
   ],
   "source": [
    "# Get data from db\n",
    "query = \"\"\"\n",
    "SELECT survival\n",
    "FROM ICU_Visit\n",
    "\"\"\"\n",
    "\n",
    "df_v0 = pd.read_sql_query(query, db_conn)\n",
    "df_v0.head()"
   ]
  },
  {
   "cell_type": "code",
   "execution_count": 15,
   "id": "248d157c",
   "metadata": {},
   "outputs": [
    {
     "data": {
      "image/png": "[encoded data removed]",
      "text/plain": [
       "<Figure size 432x288 with 1 Axes>"
      ]
     },
     "metadata": {},
     "output_type": "display_data"
    }
   ],
   "source": [
    "# Count survivors and non-survivors\n",
    "counts = df_v0['survival'].value_counts()\n",
    "\n",
    "# Plot pie chart\n",
    "plt.pie(counts.values, labels=['Survivors', 'Non-Survivors'], autopct='%d%%')\n",
    "plt.title('Survival status')\n",
    "plt.axis('equal')\n",
    "plt.show()\n"
   ]
  },
  {
   "cell_type": "markdown",
   "id": "b8529b5c",
   "metadata": {},
   "source": [
    "### 3.2 Age distribution of survivors and non-survivors"
   ]
  },
  {
   "cell_type": "code",
   "execution_count": 16,
   "id": "91c0bbbb",
   "metadata": {
    "scrolled": true
   },
   "outputs": [
    {
     "data": {
      "text/html": [
       "<div>\n",
       "<style scoped>\n",
       "    .dataframe tbody tr th:only-of-type {\n",
       "        vertical-align: middle;\n",
       "    }\n",
       "\n",
       "    .dataframe tbody tr th {\n",
       "        vertical-align: top;\n",
       "    }\n",
       "\n",
       "    .dataframe thead th {\n",
       "        text-align: right;\n",
       "    }\n",
       "</style>\n",
       "<table border=\"1\" class=\"dataframe\">\n",
       "  <thead>\n",
       "    <tr style=\"text-align: right;\">\n",
       "      <th></th>\n",
       "      <th>age</th>\n",
       "      <th>survival</th>\n",
       "    </tr>\n",
       "  </thead>\n",
       "  <tbody>\n",
       "    <tr>\n",
       "      <th>0</th>\n",
       "      <td>87</td>\n",
       "      <td>0</td>\n",
       "    </tr>\n",
       "    <tr>\n",
       "      <th>1</th>\n",
       "      <td>27</td>\n",
       "      <td>1</td>\n",
       "    </tr>\n",
       "    <tr>\n",
       "      <th>2</th>\n",
       "      <td>59</td>\n",
       "      <td>1</td>\n",
       "    </tr>\n",
       "    <tr>\n",
       "      <th>3</th>\n",
       "      <td>77</td>\n",
       "      <td>1</td>\n",
       "    </tr>\n",
       "    <tr>\n",
       "      <th>4</th>\n",
       "      <td>76</td>\n",
       "      <td>0</td>\n",
       "    </tr>\n",
       "  </tbody>\n",
       "</table>\n",
       "</div>"
      ],
      "text/plain": [
       "   age  survival\n",
       "0   87         0\n",
       "1   27         1\n",
       "2   59         1\n",
       "3   77         1\n",
       "4   76         0"
      ]
     },
     "execution_count": 16,
     "metadata": {},
     "output_type": "execute_result"
    }
   ],
   "source": [
    "# Get data from db\n",
    "query = \"\"\"\n",
    "SELECT age, survival\n",
    "FROM Patient\n",
    "INNER JOIN ICU_Visit ON Patient.id = ICU_Visit.patient_id\n",
    "\"\"\"\n",
    "\n",
    "df_v1 = pd.read_sql_query(query, db_conn)\n",
    "df_v1.head()"
   ]
  },
  {
   "cell_type": "code",
   "execution_count": 17,
   "id": "490fe79d",
   "metadata": {},
   "outputs": [
    {
     "data": {
      "image/png": "[encoded data removed]",
      "text/plain": [
       "<Figure size 720x432 with 1 Axes>"
      ]
     },
     "metadata": {
      "needs_background": "light"
     },
     "output_type": "display_data"
    }
   ],
   "source": [
    "# Separate data into survivors and non-survivors\n",
    "survivors = df_v1[df_v1['survival'] == 1]\n",
    "non_survivors = df_v1[df_v1['survival'] == 0]\n",
    "\n",
    "plt.figure(figsize=(10, 6))\n",
    "\n",
    "# Plot histogram\n",
    "plt.hist(survivors['age'], bins=15, alpha=0.7, label='Survivors')\n",
    "plt.hist(non_survivors['age'], bins=15, alpha=0.7, label='Non-Survivors')\n",
    "\n",
    "plt.xlabel('Age')\n",
    "plt.ylabel('Frequency')\n",
    "plt.title('Age distribution of survivors and non-survivors')\n",
    "plt.legend(loc='upper right')\n",
    "\n",
    "plt.show()"
   ]
  },
  {
   "cell_type": "markdown",
   "id": "6467aeb5",
   "metadata": {},
   "source": [
    "### 3.3 Proportion of survivors and non-survivors by sex, presence of infection and presence of emergency"
   ]
  },
  {
   "cell_type": "code",
   "execution_count": 18,
   "id": "bc03b3da",
   "metadata": {},
   "outputs": [
    {
     "data": {
      "text/html": [
       "<div>\n",
       "<style scoped>\n",
       "    .dataframe tbody tr th:only-of-type {\n",
       "        vertical-align: middle;\n",
       "    }\n",
       "\n",
       "    .dataframe tbody tr th {\n",
       "        vertical-align: top;\n",
       "    }\n",
       "\n",
       "    .dataframe thead th {\n",
       "        text-align: right;\n",
       "    }\n",
       "</style>\n",
       "<table border=\"1\" class=\"dataframe\">\n",
       "  <thead>\n",
       "    <tr style=\"text-align: right;\">\n",
       "      <th></th>\n",
       "      <th>sex</th>\n",
       "      <th>infection</th>\n",
       "      <th>emergency</th>\n",
       "      <th>survival</th>\n",
       "    </tr>\n",
       "  </thead>\n",
       "  <tbody>\n",
       "    <tr>\n",
       "      <th>0</th>\n",
       "      <td>1</td>\n",
       "      <td>1</td>\n",
       "      <td>1</td>\n",
       "      <td>0</td>\n",
       "    </tr>\n",
       "    <tr>\n",
       "      <th>1</th>\n",
       "      <td>1</td>\n",
       "      <td>1</td>\n",
       "      <td>1</td>\n",
       "      <td>1</td>\n",
       "    </tr>\n",
       "    <tr>\n",
       "      <th>2</th>\n",
       "      <td>0</td>\n",
       "      <td>0</td>\n",
       "      <td>1</td>\n",
       "      <td>1</td>\n",
       "    </tr>\n",
       "    <tr>\n",
       "      <th>3</th>\n",
       "      <td>0</td>\n",
       "      <td>0</td>\n",
       "      <td>0</td>\n",
       "      <td>1</td>\n",
       "    </tr>\n",
       "    <tr>\n",
       "      <th>4</th>\n",
       "      <td>1</td>\n",
       "      <td>1</td>\n",
       "      <td>1</td>\n",
       "      <td>0</td>\n",
       "    </tr>\n",
       "  </tbody>\n",
       "</table>\n",
       "</div>"
      ],
      "text/plain": [
       "   sex  infection  emergency  survival\n",
       "0    1          1          1         0\n",
       "1    1          1          1         1\n",
       "2    0          0          1         1\n",
       "3    0          0          0         1\n",
       "4    1          1          1         0"
      ]
     },
     "execution_count": 18,
     "metadata": {},
     "output_type": "execute_result"
    }
   ],
   "source": [
    "# Get data from db\n",
    "query = \"\"\"\n",
    "SELECT sex, infection, emergency, survival\n",
    "FROM Patient\n",
    "INNER JOIN ICU_Visit ON Patient.id = ICU_Visit.patient_id\n",
    "\"\"\"\n",
    "\n",
    "df_v2 = pd.read_sql_query(query, db_conn)\n",
    "df_v2.head()"
   ]
  },
  {
   "cell_type": "code",
   "execution_count": 19,
   "id": "993ada12",
   "metadata": {},
   "outputs": [
    {
     "data": {
      "image/png": "[encoded data removed]",
      "text/plain": [
       "<Figure size 1440x432 with 3 Axes>"
      ]
     },
     "metadata": {
      "needs_background": "light"
     },
     "output_type": "display_data"
    }
   ],
   "source": [
    "# Define function will help to plot stacked bar charts\n",
    "def plot_stacked_bar_chart(ax, column_name):\n",
    "    # Calculate proportion of survivors and non-survivors\n",
    "    proportions = df_v2.groupby([column_name, 'survival']).size().unstack(fill_value=0)\n",
    "    proportions = proportions.div(proportions.sum(axis=1), axis=0)\n",
    "\n",
    "    # Plot stacked bar chart\n",
    "    proportions.plot(kind='bar', stacked=True, ax=ax, color=['#ff7f0e','#1f77b4'])\n",
    "    \n",
    "    ax.set_xlabel(column_name.capitalize())\n",
    "    ax.set_ylabel('Proportion')\n",
    "    ax.set_title(f'Proportion of survivors and non-survivors by {column_name}')\n",
    "\n",
    "# Plot the graphs in the subplots \n",
    "fig, axes = plt.subplots(nrows=1, ncols=3, figsize=(20, 6))\n",
    "plot_stacked_bar_chart(axes[0], 'sex')\n",
    "plot_stacked_bar_chart(axes[1], 'infection')\n",
    "plot_stacked_bar_chart(axes[2], 'emergency')\n",
    "\n",
    "plt.tight_layout()\n",
    "\n",
    "plt.show()\n"
   ]
  },
  {
   "cell_type": "markdown",
   "id": "953db49e",
   "metadata": {},
   "source": [
    "### 3.4 Association between systolic blood pressure and pulse rate in survivors and non-survivors"
   ]
  },
  {
   "cell_type": "code",
   "execution_count": 20,
   "id": "955942aa",
   "metadata": {},
   "outputs": [
    {
     "data": {
      "text/html": [
       "<div>\n",
       "<style scoped>\n",
       "    .dataframe tbody tr th:only-of-type {\n",
       "        vertical-align: middle;\n",
       "    }\n",
       "\n",
       "    .dataframe tbody tr th {\n",
       "        vertical-align: top;\n",
       "    }\n",
       "\n",
       "    .dataframe thead th {\n",
       "        text-align: right;\n",
       "    }\n",
       "</style>\n",
       "<table border=\"1\" class=\"dataframe\">\n",
       "  <thead>\n",
       "    <tr style=\"text-align: right;\">\n",
       "      <th></th>\n",
       "      <th>systolic_bp</th>\n",
       "      <th>pulse_rate</th>\n",
       "      <th>survival</th>\n",
       "    </tr>\n",
       "  </thead>\n",
       "  <tbody>\n",
       "    <tr>\n",
       "      <th>0</th>\n",
       "      <td>80</td>\n",
       "      <td>96</td>\n",
       "      <td>0</td>\n",
       "    </tr>\n",
       "    <tr>\n",
       "      <th>1</th>\n",
       "      <td>142</td>\n",
       "      <td>88</td>\n",
       "      <td>1</td>\n",
       "    </tr>\n",
       "    <tr>\n",
       "      <th>2</th>\n",
       "      <td>112</td>\n",
       "      <td>80</td>\n",
       "      <td>1</td>\n",
       "    </tr>\n",
       "    <tr>\n",
       "      <th>3</th>\n",
       "      <td>100</td>\n",
       "      <td>70</td>\n",
       "      <td>1</td>\n",
       "    </tr>\n",
       "    <tr>\n",
       "      <th>4</th>\n",
       "      <td>128</td>\n",
       "      <td>90</td>\n",
       "      <td>0</td>\n",
       "    </tr>\n",
       "  </tbody>\n",
       "</table>\n",
       "</div>"
      ],
      "text/plain": [
       "   systolic_bp  pulse_rate  survival\n",
       "0           80          96         0\n",
       "1          142          88         1\n",
       "2          112          80         1\n",
       "3          100          70         1\n",
       "4          128          90         0"
      ]
     },
     "execution_count": 20,
     "metadata": {},
     "output_type": "execute_result"
    }
   ],
   "source": [
    "# Get data from db\n",
    "query = \"\"\"\n",
    "SELECT systolic_bp, pulse_rate, survival\n",
    "FROM Vital_Signs\n",
    "INNER JOIN ICU_Visit ON ICU_Visit.id = Vital_Signs.visit_id\n",
    "\n",
    "\"\"\"\n",
    "\n",
    "df_v3 = pd.read_sql_query(query, db_conn)\n",
    "df_v3.head()"
   ]
  },
  {
   "cell_type": "code",
   "execution_count": 21,
   "id": "21dfce2a",
   "metadata": {},
   "outputs": [
    {
     "data": {
      "image/png": "[encoded data removed]",
      "text/plain": [
       "<Figure size 720x432 with 1 Axes>"
      ]
     },
     "metadata": {
      "needs_background": "light"
     },
     "output_type": "display_data"
    }
   ],
   "source": [
    "# Separate data into survivors and non-survivors\n",
    "survivors = df_v3[df_v3['survival'] == 1]\n",
    "non_survivors = df_v3[df_v3['survival'] == 0]\n",
    "\n",
    "plt.figure(figsize=(10, 6))\n",
    "\n",
    "# Plot scatter plot\n",
    "plt.scatter(survivors['systolic_bp'], survivors['pulse_rate'], label='Survivors', alpha=0.7)\n",
    "plt.scatter(non_survivors['systolic_bp'], non_survivors['pulse_rate'], label='Non-Survivors', alpha=0.7)\n",
    "\n",
    "plt.xlabel('Systolic Blood Pressure')\n",
    "plt.ylabel('Pulse Rate')\n",
    "plt.title('Systolic Blood Pressure vs Pulse Rate')\n",
    "plt.legend(loc='upper right')\n",
    "\n",
    "plt.show()"
   ]
  },
  {
   "cell_type": "markdown",
   "id": "0f3529c2",
   "metadata": {},
   "source": [
    "### 3.5 Summary of visualisations\n",
    "- 80% (n=160) of patients survived, 20% (n=40) of patients did not survive\n",
    "- Age distribution appears fairly similar between survivors and non-survivors\n",
    "- Survival proportion was similar between males and females\n",
    "- A larger proportion of patients with infection and emergency patients did not survive \n",
    "- There does not appear to be a clear relationship between systolic blood pressure and pulse rate in the dataset\n",
    "- Non-survivors appear to have lower systolic blood pressure compared to survivors"
   ]
  },
  {
   "cell_type": "code",
   "execution_count": 22,
   "id": "ce11e239",
   "metadata": {},
   "outputs": [],
   "source": [
    "# Close the connection\n",
    "db_conn.close()"
   ]
  },
  {
   "cell_type": "markdown",
   "id": "b1e923b2",
   "metadata": {},
   "source": [
    "## 4 Developing and evaluating models"
   ]
  },
  {
   "cell_type": "markdown",
   "id": "0e0eaf09",
   "metadata": {},
   "source": [
    "- 3 machine learning models (logistic regression, decision tree and random forest) were created to predict the survival of each patient\n",
    "- The dataframe extracted from the csv file was preprocessed and used to create the models\n",
    "- Model development and evaluation was done in 5 steps\n",
    "    1. Dataset preprocessing\n",
    "    2. Baseline modelling\n",
    "    3. Feature selection\n",
    "    4. Hyperparameter tuning\n",
    "    5. Evaluation on test set\n"
   ]
  },
  {
   "cell_type": "markdown",
   "id": "ce2a4413",
   "metadata": {},
   "source": [
    "### 4.1 Dataset preprocessing"
   ]
  },
  {
   "cell_type": "code",
   "execution_count": 23,
   "id": "3dbf27aa",
   "metadata": {},
   "outputs": [
    {
     "data": {
      "text/html": [
       "<div>\n",
       "<style scoped>\n",
       "    .dataframe tbody tr th:only-of-type {\n",
       "        vertical-align: middle;\n",
       "    }\n",
       "\n",
       "    .dataframe tbody tr th {\n",
       "        vertical-align: top;\n",
       "    }\n",
       "\n",
       "    .dataframe thead th {\n",
       "        text-align: right;\n",
       "    }\n",
       "</style>\n",
       "<table border=\"1\" class=\"dataframe\">\n",
       "  <thead>\n",
       "    <tr style=\"text-align: right;\">\n",
       "      <th></th>\n",
       "      <th>ID</th>\n",
       "      <th>Survive</th>\n",
       "      <th>Age</th>\n",
       "      <th>Sex</th>\n",
       "      <th>Infection</th>\n",
       "      <th>SysBP</th>\n",
       "      <th>Pulse</th>\n",
       "      <th>Emergency</th>\n",
       "    </tr>\n",
       "  </thead>\n",
       "  <tbody>\n",
       "    <tr>\n",
       "      <th>0</th>\n",
       "      <td>4</td>\n",
       "      <td>0</td>\n",
       "      <td>87</td>\n",
       "      <td>1</td>\n",
       "      <td>1</td>\n",
       "      <td>80</td>\n",
       "      <td>96</td>\n",
       "      <td>1</td>\n",
       "    </tr>\n",
       "    <tr>\n",
       "      <th>1</th>\n",
       "      <td>8</td>\n",
       "      <td>1</td>\n",
       "      <td>27</td>\n",
       "      <td>1</td>\n",
       "      <td>1</td>\n",
       "      <td>142</td>\n",
       "      <td>88</td>\n",
       "      <td>1</td>\n",
       "    </tr>\n",
       "    <tr>\n",
       "      <th>2</th>\n",
       "      <td>12</td>\n",
       "      <td>1</td>\n",
       "      <td>59</td>\n",
       "      <td>0</td>\n",
       "      <td>0</td>\n",
       "      <td>112</td>\n",
       "      <td>80</td>\n",
       "      <td>1</td>\n",
       "    </tr>\n",
       "    <tr>\n",
       "      <th>3</th>\n",
       "      <td>14</td>\n",
       "      <td>1</td>\n",
       "      <td>77</td>\n",
       "      <td>0</td>\n",
       "      <td>0</td>\n",
       "      <td>100</td>\n",
       "      <td>70</td>\n",
       "      <td>0</td>\n",
       "    </tr>\n",
       "    <tr>\n",
       "      <th>4</th>\n",
       "      <td>27</td>\n",
       "      <td>0</td>\n",
       "      <td>76</td>\n",
       "      <td>1</td>\n",
       "      <td>1</td>\n",
       "      <td>128</td>\n",
       "      <td>90</td>\n",
       "      <td>1</td>\n",
       "    </tr>\n",
       "  </tbody>\n",
       "</table>\n",
       "</div>"
      ],
      "text/plain": [
       "   ID  Survive  Age  Sex  Infection  SysBP  Pulse  Emergency\n",
       "0   4        0   87    1          1     80     96          1\n",
       "1   8        1   27    1          1    142     88          1\n",
       "2  12        1   59    0          0    112     80          1\n",
       "3  14        1   77    0          0    100     70          0\n",
       "4  27        0   76    1          1    128     90          1"
      ]
     },
     "execution_count": 23,
     "metadata": {},
     "output_type": "execute_result"
    }
   ],
   "source": [
    "df.head()"
   ]
  },
  {
   "cell_type": "code",
   "execution_count": 24,
   "id": "cec818fd",
   "metadata": {},
   "outputs": [],
   "source": [
    "# Drop columns that are not relevant for mortality prediction\n",
    "df = df.drop([\"ID\"], axis=1)"
   ]
  },
  {
   "cell_type": "code",
   "execution_count": 25,
   "id": "8b5fd717",
   "metadata": {},
   "outputs": [
    {
     "data": {
      "text/html": [
       "<div>\n",
       "<style scoped>\n",
       "    .dataframe tbody tr th:only-of-type {\n",
       "        vertical-align: middle;\n",
       "    }\n",
       "\n",
       "    .dataframe tbody tr th {\n",
       "        vertical-align: top;\n",
       "    }\n",
       "\n",
       "    .dataframe thead th {\n",
       "        text-align: right;\n",
       "    }\n",
       "</style>\n",
       "<table border=\"1\" class=\"dataframe\">\n",
       "  <thead>\n",
       "    <tr style=\"text-align: right;\">\n",
       "      <th></th>\n",
       "      <th>Survive</th>\n",
       "      <th>Age</th>\n",
       "      <th>Sex</th>\n",
       "      <th>Infection</th>\n",
       "      <th>SysBP</th>\n",
       "      <th>Pulse</th>\n",
       "      <th>Emergency</th>\n",
       "    </tr>\n",
       "  </thead>\n",
       "  <tbody>\n",
       "    <tr>\n",
       "      <th>0</th>\n",
       "      <td>0</td>\n",
       "      <td>87</td>\n",
       "      <td>1</td>\n",
       "      <td>1</td>\n",
       "      <td>80</td>\n",
       "      <td>96</td>\n",
       "      <td>1</td>\n",
       "    </tr>\n",
       "    <tr>\n",
       "      <th>1</th>\n",
       "      <td>1</td>\n",
       "      <td>27</td>\n",
       "      <td>1</td>\n",
       "      <td>1</td>\n",
       "      <td>142</td>\n",
       "      <td>88</td>\n",
       "      <td>1</td>\n",
       "    </tr>\n",
       "    <tr>\n",
       "      <th>2</th>\n",
       "      <td>1</td>\n",
       "      <td>59</td>\n",
       "      <td>0</td>\n",
       "      <td>0</td>\n",
       "      <td>112</td>\n",
       "      <td>80</td>\n",
       "      <td>1</td>\n",
       "    </tr>\n",
       "    <tr>\n",
       "      <th>3</th>\n",
       "      <td>1</td>\n",
       "      <td>77</td>\n",
       "      <td>0</td>\n",
       "      <td>0</td>\n",
       "      <td>100</td>\n",
       "      <td>70</td>\n",
       "      <td>0</td>\n",
       "    </tr>\n",
       "    <tr>\n",
       "      <th>4</th>\n",
       "      <td>0</td>\n",
       "      <td>76</td>\n",
       "      <td>1</td>\n",
       "      <td>1</td>\n",
       "      <td>128</td>\n",
       "      <td>90</td>\n",
       "      <td>1</td>\n",
       "    </tr>\n",
       "  </tbody>\n",
       "</table>\n",
       "</div>"
      ],
      "text/plain": [
       "   Survive  Age  Sex  Infection  SysBP  Pulse  Emergency\n",
       "0        0   87    1          1     80     96          1\n",
       "1        1   27    1          1    142     88          1\n",
       "2        1   59    0          0    112     80          1\n",
       "3        1   77    0          0    100     70          0\n",
       "4        0   76    1          1    128     90          1"
      ]
     },
     "execution_count": 25,
     "metadata": {},
     "output_type": "execute_result"
    }
   ],
   "source": [
    "df.head()"
   ]
  },
  {
   "cell_type": "code",
   "execution_count": 26,
   "id": "2ea73a78",
   "metadata": {
    "scrolled": false
   },
   "outputs": [
    {
     "data": {
      "text/plain": [
       "Survive      0\n",
       "Age          0\n",
       "Sex          0\n",
       "Infection    0\n",
       "SysBP        0\n",
       "Pulse        0\n",
       "Emergency    0\n",
       "dtype: int64"
      ]
     },
     "execution_count": 26,
     "metadata": {},
     "output_type": "execute_result"
    }
   ],
   "source": [
    "# There are no null values in the dataset\n",
    "df.isna().sum()"
   ]
  },
  {
   "cell_type": "code",
   "execution_count": 27,
   "id": "3fb692d9",
   "metadata": {},
   "outputs": [
    {
     "name": "stdout",
     "output_type": "stream",
     "text": [
      "<class 'pandas.core.frame.DataFrame'>\n",
      "RangeIndex: 200 entries, 0 to 199\n",
      "Data columns (total 7 columns):\n",
      " #   Column     Non-Null Count  Dtype\n",
      "---  ------     --------------  -----\n",
      " 0   Survive    200 non-null    int64\n",
      " 1   Age        200 non-null    int64\n",
      " 2   Sex        200 non-null    int64\n",
      " 3   Infection  200 non-null    int64\n",
      " 4   SysBP      200 non-null    int64\n",
      " 5   Pulse      200 non-null    int64\n",
      " 6   Emergency  200 non-null    int64\n",
      "dtypes: int64(7)\n",
      "memory usage: 11.1 KB\n"
     ]
    }
   ],
   "source": [
    "# All columns are of int datatype\n",
    "df.info()"
   ]
  },
  {
   "cell_type": "code",
   "execution_count": 28,
   "id": "e558519a",
   "metadata": {},
   "outputs": [
    {
     "data": {
      "image/png": "[encoded data removed]",
      "text/plain": [
       "<Figure size 864x288 with 3 Axes>"
      ]
     },
     "metadata": {
      "needs_background": "light"
     },
     "output_type": "display_data"
    }
   ],
   "source": [
    "# Checking for outliers in numeric variables\n",
    "fig, ((ax1, ax2, ax3)) = plt.subplots(nrows=1,ncols=3, figsize=(12, 4))\n",
    "\n",
    "ax1.boxplot(df['Age'], labels=['Age']);\n",
    "ax2.boxplot([df['SysBP']], labels=['SysBP']);\n",
    "ax3.boxplot(df['Pulse'], labels=['Pulse']);\n",
    "\n",
    "# Outliers present for systolic bp and pulse, but values are still medically plausible hence they are kept"
   ]
  },
  {
   "cell_type": "code",
   "execution_count": 29,
   "id": "78535cfb",
   "metadata": {},
   "outputs": [
    {
     "data": {
      "text/plain": [
       "1    160\n",
       "0     40\n",
       "Name: Survive, dtype: int64"
      ]
     },
     "execution_count": 29,
     "metadata": {},
     "output_type": "execute_result"
    }
   ],
   "source": [
    "# Check target class balance\n",
    "# 160 patients survived, 40 patients did not\n",
    "df[\"Survive\"].value_counts()"
   ]
  },
  {
   "cell_type": "code",
   "execution_count": 30,
   "id": "271c3486",
   "metadata": {},
   "outputs": [],
   "source": [
    "from sklearn.model_selection import train_test_split"
   ]
  },
  {
   "cell_type": "code",
   "execution_count": 31,
   "id": "3e35d27c",
   "metadata": {},
   "outputs": [],
   "source": [
    "# Split data into X and y\n",
    "X = df.drop(\"Survive\", axis=1)\n",
    "y = df[\"Survive\"]"
   ]
  },
  {
   "cell_type": "code",
   "execution_count": 32,
   "id": "002df896",
   "metadata": {},
   "outputs": [],
   "source": [
    "# Split into training set (80%) and test set (20%)\n",
    "X_train, X_test, y_train, y_test = train_test_split(X, y, test_size = 0.2, random_state=42)"
   ]
  },
  {
   "cell_type": "code",
   "execution_count": 33,
   "id": "712d0c54",
   "metadata": {},
   "outputs": [],
   "source": [
    "# Scale the train set and test set because this is required for logistic regression\n",
    "# Scaled separately to prevent data leakage\n",
    "from sklearn.preprocessing import StandardScaler\n",
    "scaler = StandardScaler()\n",
    "X_train_scaled = scaler.fit_transform(X_train)\n",
    "X_test_scaled = scaler.fit_transform(X_test)\n",
    "\n",
    "# Keep column names in scaled dataset to help with experimenting with features later\n",
    "X_train_scaled = pd.DataFrame(X_train_scaled, columns=X_train.columns)\n",
    "X_test_scaled = pd.DataFrame(X_test_scaled, columns=X_test.columns)\n"
   ]
  },
  {
   "cell_type": "markdown",
   "id": "98a7bb4d",
   "metadata": {},
   "source": [
    "### 4.2 Baseline modelling"
   ]
  },
  {
   "cell_type": "markdown",
   "id": "25a49fad",
   "metadata": {},
   "source": [
    "- This section produces and compares baseline models for logistic regression, decision tree and random forest to provide a reference for later comparison\n",
    "- Cross validation was used to get a better estimate of each model's performance"
   ]
  },
  {
   "cell_type": "code",
   "execution_count": 34,
   "id": "7ff587bc",
   "metadata": {},
   "outputs": [],
   "source": [
    "from sklearn.model_selection import cross_validate\n",
    "from sklearn.linear_model import LogisticRegression\n",
    "from sklearn.tree import DecisionTreeClassifier\n",
    "from sklearn.ensemble import RandomForestClassifier \n",
    "from sklearn.model_selection import RandomizedSearchCV\n",
    "from sklearn.model_selection import GridSearchCV\n",
    "from sklearn.metrics import accuracy_score, precision_score, recall_score, f1_score\n"
   ]
  },
  {
   "cell_type": "code",
   "execution_count": 35,
   "id": "0b1d667b",
   "metadata": {},
   "outputs": [],
   "source": [
    "# Put models in a dictionary\n",
    "models = {\"Logistic Regression\": LogisticRegression(max_iter=500),\n",
    "         \"Decision Tree\": DecisionTreeClassifier(),\n",
    "         \"Random Forest\": RandomForestClassifier()}\n",
    "\n",
    "# Put scoring metrics in list\n",
    "metrics = [\"accuracy\", \"precision_macro\", \"recall_macro\", \"f1_macro\"]\n",
    "\n",
    "# Create empty DataFrame to populate the name of the classifier and the six metrics returned from cross_validate()\n",
    "results = pd.DataFrame({\n",
    "                        \"classifier_name\":[],\n",
    "                        \"fit_time\": [],\n",
    "                        \"score_time\": [],\n",
    "                        \"test_accuracy\": [],\n",
    "                        \"test_precision_macro\": [],\n",
    "                        \"test_recall_macro\": [],\n",
    "                        \"test_f1_macro\": [],\n",
    "                        })"
   ]
  },
  {
   "cell_type": "code",
   "execution_count": 36,
   "id": "94e29759",
   "metadata": {
    "scrolled": true
   },
   "outputs": [
    {
     "name": "stderr",
     "output_type": "stream",
     "text": [
      "/opt/anaconda3/lib/python3.9/site-packages/sklearn/metrics/_classification.py:1318: UndefinedMetricWarning: Precision is ill-defined and being set to 0.0 in labels with no predicted samples. Use `zero_division` parameter to control this behavior.\n",
      "  _warn_prf(average, modifier, msg_start, len(result))\n"
     ]
    }
   ],
   "source": [
    "# Fit and score models using cross-validation\n",
    "for name, classifier in models.items():\n",
    "    \n",
    "    np.random.seed(42)\n",
    "    \n",
    "    # Get the evaluation metrics per fold after cross-validation\n",
    "    scores_cv = cross_validate(classifier, X_train_scaled, y_train, cv=5, scoring=metrics)\n",
    "\n",
    "    # Create a dictionary to store the result for the classifier\n",
    "    dict_this_result = {\n",
    "                    \"classifier_name\":[name],\n",
    "                    }\n",
    "    # Populate the dictionary with the average cross validation results\n",
    "    for metric_name, score_per_fold in scores_cv.items():\n",
    "        dict_this_result[metric_name] = [ scores_cv[metric_name].mean() ]\n",
    "\n",
    "    # Convert the dictionary to a dataframe\n",
    "    this_result = pd.DataFrame(dict_this_result)\n",
    "\n",
    "    # Append this to the main dataframe \n",
    "    results = pd.concat([results, this_result], ignore_index=True)\n"
   ]
  },
  {
   "cell_type": "code",
   "execution_count": 37,
   "id": "d33c0ec9",
   "metadata": {
    "scrolled": true
   },
   "outputs": [
    {
     "data": {
      "text/html": [
       "<div>\n",
       "<style scoped>\n",
       "    .dataframe tbody tr th:only-of-type {\n",
       "        vertical-align: middle;\n",
       "    }\n",
       "\n",
       "    .dataframe tbody tr th {\n",
       "        vertical-align: top;\n",
       "    }\n",
       "\n",
       "    .dataframe thead th {\n",
       "        text-align: right;\n",
       "    }\n",
       "</style>\n",
       "<table border=\"1\" class=\"dataframe\">\n",
       "  <thead>\n",
       "    <tr style=\"text-align: right;\">\n",
       "      <th></th>\n",
       "      <th>classifier_name</th>\n",
       "      <th>fit_time</th>\n",
       "      <th>score_time</th>\n",
       "      <th>test_accuracy</th>\n",
       "      <th>test_precision_macro</th>\n",
       "      <th>test_recall_macro</th>\n",
       "      <th>test_f1_macro</th>\n",
       "    </tr>\n",
       "  </thead>\n",
       "  <tbody>\n",
       "    <tr>\n",
       "      <th>0</th>\n",
       "      <td>Logistic Regression</td>\n",
       "      <td>0.004264</td>\n",
       "      <td>0.003975</td>\n",
       "      <td>0.80000</td>\n",
       "      <td>0.672181</td>\n",
       "      <td>0.552440</td>\n",
       "      <td>0.540794</td>\n",
       "    </tr>\n",
       "    <tr>\n",
       "      <th>1</th>\n",
       "      <td>Decision Tree</td>\n",
       "      <td>0.001748</td>\n",
       "      <td>0.003363</td>\n",
       "      <td>0.73125</td>\n",
       "      <td>0.589055</td>\n",
       "      <td>0.558103</td>\n",
       "      <td>0.562519</td>\n",
       "    </tr>\n",
       "    <tr>\n",
       "      <th>2</th>\n",
       "      <td>Random Forest</td>\n",
       "      <td>0.113324</td>\n",
       "      <td>0.012760</td>\n",
       "      <td>0.81875</td>\n",
       "      <td>0.762213</td>\n",
       "      <td>0.631223</td>\n",
       "      <td>0.647812</td>\n",
       "    </tr>\n",
       "  </tbody>\n",
       "</table>\n",
       "</div>"
      ],
      "text/plain": [
       "       classifier_name  fit_time  score_time  test_accuracy  \\\n",
       "0  Logistic Regression  0.004264    0.003975        0.80000   \n",
       "1        Decision Tree  0.001748    0.003363        0.73125   \n",
       "2        Random Forest  0.113324    0.012760        0.81875   \n",
       "\n",
       "   test_precision_macro  test_recall_macro  test_f1_macro  \n",
       "0              0.672181           0.552440       0.540794  \n",
       "1              0.589055           0.558103       0.562519  \n",
       "2              0.762213           0.631223       0.647812  "
      ]
     },
     "execution_count": 37,
     "metadata": {},
     "output_type": "execute_result"
    }
   ],
   "source": [
    "results"
   ]
  },
  {
   "cell_type": "code",
   "execution_count": 38,
   "id": "ea377d18",
   "metadata": {},
   "outputs": [],
   "source": [
    "metrics_df = results.loc[:,['test_accuracy', 'test_precision_macro', 'test_recall_macro', 'test_f1_macro']]"
   ]
  },
  {
   "cell_type": "code",
   "execution_count": 39,
   "id": "15943f8f",
   "metadata": {},
   "outputs": [
    {
     "data": {
      "image/png": "[encoded data removed]",
      "text/plain": [
       "<Figure size 432x288 with 1 Axes>"
      ]
     },
     "metadata": {
      "needs_background": "light"
     },
     "output_type": "display_data"
    }
   ],
   "source": [
    "# Plot metrics for easier comparison\n",
    "metrics_chart = metrics_df.plot.bar()\n",
    "\n",
    "plt.title(\"Evaluation metrics\")\n",
    "plt.xlabel(\"Models\")\n",
    "metrics_chart.set_xticklabels(['LR', 'DT', 'RF'])\n",
    "metrics_chart.legend(loc='center left',  bbox_to_anchor=(1.1, 0.5))\n",
    "plt.show()                       \n"
   ]
  },
  {
   "cell_type": "markdown",
   "id": "994a6a8c",
   "metadata": {},
   "source": [
    "- The best performing model after baseline modelling is the random forest, followed by logistic regression, and then decision tree"
   ]
  },
  {
   "cell_type": "markdown",
   "id": "303d3245",
   "metadata": {},
   "source": [
    "### 4.3 Feature selection"
   ]
  },
  {
   "cell_type": "markdown",
   "id": "8dc3c6d3",
   "metadata": {},
   "source": [
    "- In this section, a random forest is used to evaluate and visualise feature importance\n",
    "- The 3 least important features for prediction were `Sex`, `Infection` and `Emergency`\n",
    "- The least important features were systematically dropped to observe its impact on performance"
   ]
  },
  {
   "cell_type": "code",
   "execution_count": 40,
   "id": "476bbdd9",
   "metadata": {},
   "outputs": [
    {
     "data": {
      "text/plain": [
       "RandomForestClassifier()"
      ]
     },
     "execution_count": 40,
     "metadata": {},
     "output_type": "execute_result"
    }
   ],
   "source": [
    "# Fit a random forest classifier\n",
    "classifier = RandomForestClassifier()\n",
    "classifier.fit(X_train_scaled, y_train)"
   ]
  },
  {
   "cell_type": "code",
   "execution_count": 41,
   "id": "7880b043",
   "metadata": {},
   "outputs": [
    {
     "data": {
      "image/png": "[encoded data removed]",
      "text/plain": [
       "<Figure size 432x288 with 1 Axes>"
      ]
     },
     "metadata": {
      "needs_background": "light"
     },
     "output_type": "display_data"
    }
   ],
   "source": [
    "# Plot feature importance\n",
    "feature_importance = pd.DataFrame({\"feature_names\" : X_train.columns,\n",
    "                                   \"importance\" : classifier.feature_importances_})\n",
    "\n",
    "plt.bar(feature_importance['feature_names'], feature_importance['importance'])\n",
    "\n",
    "plt.xlabel('Features')\n",
    "plt.xticks(rotation=70)\n",
    "plt.ylabel('Importance')\n",
    "plt.title('Feature Importance Plot')\n",
    "\n",
    "plt.show()"
   ]
  },
  {
   "cell_type": "code",
   "execution_count": 42,
   "id": "3b68ef02",
   "metadata": {},
   "outputs": [],
   "source": [
    "# Drop the least important feature, Sex\n",
    "X_train_scaled_1 = X_train_scaled.drop(\"Sex\", axis=1)\n",
    "X_test_scaled_1 = X_test_scaled.drop(\"Sex\", axis=1)"
   ]
  },
  {
   "cell_type": "code",
   "execution_count": 43,
   "id": "6a5917c3",
   "metadata": {},
   "outputs": [],
   "source": [
    "# Fit and score models\n",
    "for name, classifier in models.items():\n",
    "    \n",
    "    np.random.seed(42)\n",
    "    \n",
    "    # Get the evaluation metrics per fold after cross-validation\n",
    "    scores_cv = cross_validate(classifier, X_train_scaled_1, y_train, cv=5, scoring=metrics)\n",
    "\n",
    "    # Create a dictionary to store the result for the classifier\n",
    "    dict_this_result = {\n",
    "                    \"classifier_name\":[name + \" (w/o sex)\"],\n",
    "                    }\n",
    "    # Populate the dictionary with the average cross validation results\n",
    "    for metric_name, score_per_fold in scores_cv.items():\n",
    "        dict_this_result[metric_name] = [ scores_cv[metric_name].mean() ]\n",
    "\n",
    "    # Convert the dictionary to a dataframe\n",
    "    this_result = pd.DataFrame(dict_this_result)\n",
    "\n",
    "    # Append this to the main dataframe \n",
    "    results = pd.concat([results, this_result], ignore_index=True)\n"
   ]
  },
  {
   "cell_type": "code",
   "execution_count": 44,
   "id": "3229924f",
   "metadata": {
    "scrolled": true
   },
   "outputs": [
    {
     "data": {
      "text/html": [
       "<div>\n",
       "<style scoped>\n",
       "    .dataframe tbody tr th:only-of-type {\n",
       "        vertical-align: middle;\n",
       "    }\n",
       "\n",
       "    .dataframe tbody tr th {\n",
       "        vertical-align: top;\n",
       "    }\n",
       "\n",
       "    .dataframe thead th {\n",
       "        text-align: right;\n",
       "    }\n",
       "</style>\n",
       "<table border=\"1\" class=\"dataframe\">\n",
       "  <thead>\n",
       "    <tr style=\"text-align: right;\">\n",
       "      <th></th>\n",
       "      <th>classifier_name</th>\n",
       "      <th>fit_time</th>\n",
       "      <th>score_time</th>\n",
       "      <th>test_accuracy</th>\n",
       "      <th>test_precision_macro</th>\n",
       "      <th>test_recall_macro</th>\n",
       "      <th>test_f1_macro</th>\n",
       "    </tr>\n",
       "  </thead>\n",
       "  <tbody>\n",
       "    <tr>\n",
       "      <th>0</th>\n",
       "      <td>Logistic Regression</td>\n",
       "      <td>0.004264</td>\n",
       "      <td>0.003975</td>\n",
       "      <td>0.80000</td>\n",
       "      <td>0.672181</td>\n",
       "      <td>0.552440</td>\n",
       "      <td>0.540794</td>\n",
       "    </tr>\n",
       "    <tr>\n",
       "      <th>1</th>\n",
       "      <td>Decision Tree</td>\n",
       "      <td>0.001748</td>\n",
       "      <td>0.003363</td>\n",
       "      <td>0.73125</td>\n",
       "      <td>0.589055</td>\n",
       "      <td>0.558103</td>\n",
       "      <td>0.562519</td>\n",
       "    </tr>\n",
       "    <tr>\n",
       "      <th>2</th>\n",
       "      <td>Random Forest</td>\n",
       "      <td>0.113324</td>\n",
       "      <td>0.012760</td>\n",
       "      <td>0.81875</td>\n",
       "      <td>0.762213</td>\n",
       "      <td>0.631223</td>\n",
       "      <td>0.647812</td>\n",
       "    </tr>\n",
       "    <tr>\n",
       "      <th>3</th>\n",
       "      <td>Logistic Regression (w/o sex)</td>\n",
       "      <td>0.004781</td>\n",
       "      <td>0.004320</td>\n",
       "      <td>0.80000</td>\n",
       "      <td>0.773897</td>\n",
       "      <td>0.562725</td>\n",
       "      <td>0.565206</td>\n",
       "    </tr>\n",
       "    <tr>\n",
       "      <th>4</th>\n",
       "      <td>Decision Tree (w/o sex)</td>\n",
       "      <td>0.001981</td>\n",
       "      <td>0.003605</td>\n",
       "      <td>0.71250</td>\n",
       "      <td>0.573884</td>\n",
       "      <td>0.561612</td>\n",
       "      <td>0.563495</td>\n",
       "    </tr>\n",
       "    <tr>\n",
       "      <th>5</th>\n",
       "      <td>Random Forest (w/o sex)</td>\n",
       "      <td>0.104759</td>\n",
       "      <td>0.011675</td>\n",
       "      <td>0.81250</td>\n",
       "      <td>0.748461</td>\n",
       "      <td>0.601890</td>\n",
       "      <td>0.616912</td>\n",
       "    </tr>\n",
       "  </tbody>\n",
       "</table>\n",
       "</div>"
      ],
      "text/plain": [
       "                 classifier_name  fit_time  score_time  test_accuracy  \\\n",
       "0            Logistic Regression  0.004264    0.003975        0.80000   \n",
       "1                  Decision Tree  0.001748    0.003363        0.73125   \n",
       "2                  Random Forest  0.113324    0.012760        0.81875   \n",
       "3  Logistic Regression (w/o sex)  0.004781    0.004320        0.80000   \n",
       "4        Decision Tree (w/o sex)  0.001981    0.003605        0.71250   \n",
       "5        Random Forest (w/o sex)  0.104759    0.011675        0.81250   \n",
       "\n",
       "   test_precision_macro  test_recall_macro  test_f1_macro  \n",
       "0              0.672181           0.552440       0.540794  \n",
       "1              0.589055           0.558103       0.562519  \n",
       "2              0.762213           0.631223       0.647812  \n",
       "3              0.773897           0.562725       0.565206  \n",
       "4              0.573884           0.561612       0.563495  \n",
       "5              0.748461           0.601890       0.616912  "
      ]
     },
     "execution_count": 44,
     "metadata": {},
     "output_type": "execute_result"
    }
   ],
   "source": [
    "results"
   ]
  },
  {
   "cell_type": "code",
   "execution_count": 45,
   "id": "4dd0c8f9",
   "metadata": {},
   "outputs": [],
   "source": [
    "# Drop the second least important feature, Infection\n",
    "X_train_scaled_2 = X_train_scaled_1.drop(\"Infection\", axis=1)\n",
    "X_test_scaled_2 = X_test_scaled_1.drop(\"Infection\", axis=1)"
   ]
  },
  {
   "cell_type": "code",
   "execution_count": 46,
   "id": "5c7d060d",
   "metadata": {},
   "outputs": [],
   "source": [
    "# Fit and score models\n",
    "for name, classifier in models.items():\n",
    "    \n",
    "    np.random.seed(42)\n",
    "    \n",
    "    # Get the evaluation metrics per fold after cross-validation\n",
    "    scores_cv = cross_validate(classifier, X_train_scaled_2, y_train, cv=5, scoring=metrics)\n",
    "\n",
    "    # Create a dictionary to store the result for the classifier\n",
    "    dict_this_result = {\n",
    "                    \"classifier_name\":[name + \" (w/o infection, sex)\"],\n",
    "                    }\n",
    "    # Populate the dictionary with the average cross validation results\n",
    "    for metric_name, score_per_fold in scores_cv.items():\n",
    "        dict_this_result[metric_name] = [ scores_cv[metric_name].mean() ]\n",
    "\n",
    "    # Convert the dictionary to a dataframe\n",
    "    this_result = pd.DataFrame(dict_this_result)\n",
    "\n",
    "    # Append this to the main dataframe \n",
    "    results = pd.concat([results, this_result], ignore_index=True)\n"
   ]
  },
  {
   "cell_type": "code",
   "execution_count": 47,
   "id": "b3767707",
   "metadata": {
    "scrolled": true
   },
   "outputs": [
    {
     "data": {
      "text/html": [
       "<div>\n",
       "<style scoped>\n",
       "    .dataframe tbody tr th:only-of-type {\n",
       "        vertical-align: middle;\n",
       "    }\n",
       "\n",
       "    .dataframe tbody tr th {\n",
       "        vertical-align: top;\n",
       "    }\n",
       "\n",
       "    .dataframe thead th {\n",
       "        text-align: right;\n",
       "    }\n",
       "</style>\n",
       "<table border=\"1\" class=\"dataframe\">\n",
       "  <thead>\n",
       "    <tr style=\"text-align: right;\">\n",
       "      <th></th>\n",
       "      <th>classifier_name</th>\n",
       "      <th>fit_time</th>\n",
       "      <th>score_time</th>\n",
       "      <th>test_accuracy</th>\n",
       "      <th>test_precision_macro</th>\n",
       "      <th>test_recall_macro</th>\n",
       "      <th>test_f1_macro</th>\n",
       "    </tr>\n",
       "  </thead>\n",
       "  <tbody>\n",
       "    <tr>\n",
       "      <th>0</th>\n",
       "      <td>Logistic Regression</td>\n",
       "      <td>0.004264</td>\n",
       "      <td>0.003975</td>\n",
       "      <td>0.80000</td>\n",
       "      <td>0.672181</td>\n",
       "      <td>0.552440</td>\n",
       "      <td>0.540794</td>\n",
       "    </tr>\n",
       "    <tr>\n",
       "      <th>1</th>\n",
       "      <td>Decision Tree</td>\n",
       "      <td>0.001748</td>\n",
       "      <td>0.003363</td>\n",
       "      <td>0.73125</td>\n",
       "      <td>0.589055</td>\n",
       "      <td>0.558103</td>\n",
       "      <td>0.562519</td>\n",
       "    </tr>\n",
       "    <tr>\n",
       "      <th>2</th>\n",
       "      <td>Random Forest</td>\n",
       "      <td>0.113324</td>\n",
       "      <td>0.012760</td>\n",
       "      <td>0.81875</td>\n",
       "      <td>0.762213</td>\n",
       "      <td>0.631223</td>\n",
       "      <td>0.647812</td>\n",
       "    </tr>\n",
       "    <tr>\n",
       "      <th>3</th>\n",
       "      <td>Logistic Regression (w/o sex)</td>\n",
       "      <td>0.004781</td>\n",
       "      <td>0.004320</td>\n",
       "      <td>0.80000</td>\n",
       "      <td>0.773897</td>\n",
       "      <td>0.562725</td>\n",
       "      <td>0.565206</td>\n",
       "    </tr>\n",
       "    <tr>\n",
       "      <th>4</th>\n",
       "      <td>Decision Tree (w/o sex)</td>\n",
       "      <td>0.001981</td>\n",
       "      <td>0.003605</td>\n",
       "      <td>0.71250</td>\n",
       "      <td>0.573884</td>\n",
       "      <td>0.561612</td>\n",
       "      <td>0.563495</td>\n",
       "    </tr>\n",
       "    <tr>\n",
       "      <th>5</th>\n",
       "      <td>Random Forest (w/o sex)</td>\n",
       "      <td>0.104759</td>\n",
       "      <td>0.011675</td>\n",
       "      <td>0.81250</td>\n",
       "      <td>0.748461</td>\n",
       "      <td>0.601890</td>\n",
       "      <td>0.616912</td>\n",
       "    </tr>\n",
       "    <tr>\n",
       "      <th>6</th>\n",
       "      <td>Logistic Regression (w/o infection, sex)</td>\n",
       "      <td>0.004464</td>\n",
       "      <td>0.003198</td>\n",
       "      <td>0.81875</td>\n",
       "      <td>0.859032</td>\n",
       "      <td>0.572190</td>\n",
       "      <td>0.577665</td>\n",
       "    </tr>\n",
       "    <tr>\n",
       "      <th>7</th>\n",
       "      <td>Decision Tree (w/o infection, sex)</td>\n",
       "      <td>0.001541</td>\n",
       "      <td>0.002724</td>\n",
       "      <td>0.66875</td>\n",
       "      <td>0.500732</td>\n",
       "      <td>0.498300</td>\n",
       "      <td>0.497825</td>\n",
       "    </tr>\n",
       "    <tr>\n",
       "      <th>8</th>\n",
       "      <td>Random Forest (w/o infection, sex)</td>\n",
       "      <td>0.114932</td>\n",
       "      <td>0.013267</td>\n",
       "      <td>0.80000</td>\n",
       "      <td>0.695290</td>\n",
       "      <td>0.619223</td>\n",
       "      <td>0.631971</td>\n",
       "    </tr>\n",
       "  </tbody>\n",
       "</table>\n",
       "</div>"
      ],
      "text/plain": [
       "                            classifier_name  fit_time  score_time  \\\n",
       "0                       Logistic Regression  0.004264    0.003975   \n",
       "1                             Decision Tree  0.001748    0.003363   \n",
       "2                             Random Forest  0.113324    0.012760   \n",
       "3             Logistic Regression (w/o sex)  0.004781    0.004320   \n",
       "4                   Decision Tree (w/o sex)  0.001981    0.003605   \n",
       "5                   Random Forest (w/o sex)  0.104759    0.011675   \n",
       "6  Logistic Regression (w/o infection, sex)  0.004464    0.003198   \n",
       "7        Decision Tree (w/o infection, sex)  0.001541    0.002724   \n",
       "8        Random Forest (w/o infection, sex)  0.114932    0.013267   \n",
       "\n",
       "   test_accuracy  test_precision_macro  test_recall_macro  test_f1_macro  \n",
       "0        0.80000              0.672181           0.552440       0.540794  \n",
       "1        0.73125              0.589055           0.558103       0.562519  \n",
       "2        0.81875              0.762213           0.631223       0.647812  \n",
       "3        0.80000              0.773897           0.562725       0.565206  \n",
       "4        0.71250              0.573884           0.561612       0.563495  \n",
       "5        0.81250              0.748461           0.601890       0.616912  \n",
       "6        0.81875              0.859032           0.572190       0.577665  \n",
       "7        0.66875              0.500732           0.498300       0.497825  \n",
       "8        0.80000              0.695290           0.619223       0.631971  "
      ]
     },
     "execution_count": 47,
     "metadata": {},
     "output_type": "execute_result"
    }
   ],
   "source": [
    "results"
   ]
  },
  {
   "cell_type": "markdown",
   "id": "3f2627d8",
   "metadata": {},
   "source": [
    "- It appears that dropping the least important features generally did not improve the performance of the model\n",
    "- Hence, no features were dropped from the dataset used to train later models"
   ]
  },
  {
   "cell_type": "markdown",
   "id": "f63a3341",
   "metadata": {},
   "source": [
    "### 4.4 Hyperparameter tuning\n",
    "\n",
    "- RandomizedSearchCV was used to find optimal hyperparameters for the models"
   ]
  },
  {
   "cell_type": "code",
   "execution_count": 48,
   "id": "5d41938c",
   "metadata": {},
   "outputs": [],
   "source": [
    "# Hyperparameter grid for random forest\n",
    "rf_grid = {\"n_estimators\" : np.arange(100, 1000, 50),\n",
    "           \"max_depth\": [None, 5, 10, 15],\n",
    "           \"min_samples_split\": np.arange(2, 20, 2),\n",
    "           \"min_samples_leaf\": np.arange(1, 20, 2)}\n",
    "\n",
    "\n",
    "# Hyperparameter grid for logistic regression\n",
    "lr_grid = {\"C\": np.logspace(-4, 4, 20),\n",
    "           \"penalty\": [\"l1\", \"l2\"],\n",
    "           \"solver\": [\"liblinear\"]}\n",
    "\n",
    "# Hyperparameter grid for decision tree\n",
    "dt_grid = {'max_depth': [5, 10, 15, 20, None],\n",
    "                   'min_samples_split': [2, 5, 10],\n",
    "                   'min_samples_leaf': [1, 2, 4],\n",
    "                   'max_features': ['sqrt', 'log2', None]}"
   ]
  },
  {
   "cell_type": "code",
   "execution_count": 49,
   "id": "3ac03c8b",
   "metadata": {},
   "outputs": [
    {
     "name": "stdout",
     "output_type": "stream",
     "text": [
      "Fitting 5 folds for each of 20 candidates, totalling 100 fits\n"
     ]
    },
    {
     "data": {
      "text/plain": [
       "RandomizedSearchCV(cv=5, estimator=RandomForestClassifier(), n_iter=20,\n",
       "                   param_distributions={'max_depth': [None, 5, 10, 15],\n",
       "                                        'min_samples_leaf': array([ 1,  3,  5,  7,  9, 11, 13, 15, 17, 19]),\n",
       "                                        'min_samples_split': array([ 2,  4,  6,  8, 10, 12, 14, 16, 18]),\n",
       "                                        'n_estimators': array([100, 150, 200, 250, 300, 350, 400, 450, 500, 550, 600, 650, 700,\n",
       "       750, 800, 850, 900, 950])},\n",
       "                   verbose=1)"
      ]
     },
     "execution_count": 49,
     "metadata": {},
     "output_type": "execute_result"
    }
   ],
   "source": [
    "# Tune random forest \n",
    "np.random.seed(42)\n",
    "\n",
    "# Instantiate RandomizedSearchCV\n",
    "rs_rf = RandomizedSearchCV(RandomForestClassifier(),\n",
    "                    param_distributions=rf_grid,\n",
    "                    cv=5,\n",
    "                    n_iter=20,\n",
    "                    verbose=1)\n",
    "\n",
    "# Fit to data\n",
    "rs_rf.fit(X_train_scaled, y_train)\n"
   ]
  },
  {
   "cell_type": "code",
   "execution_count": 50,
   "id": "d7f1ccde",
   "metadata": {},
   "outputs": [
    {
     "data": {
      "text/plain": [
       "0.825"
      ]
     },
     "execution_count": 50,
     "metadata": {},
     "output_type": "execute_result"
    }
   ],
   "source": [
    "# Best score found\n",
    "rs_rf.best_score_"
   ]
  },
  {
   "cell_type": "code",
   "execution_count": 51,
   "id": "9d1b7211",
   "metadata": {},
   "outputs": [
    {
     "data": {
      "text/plain": [
       "RandomForestClassifier(min_samples_split=16, n_estimators=300)"
      ]
     },
     "execution_count": 51,
     "metadata": {},
     "output_type": "execute_result"
    }
   ],
   "source": [
    "# Best estimator found\n",
    "rs_rf.best_estimator_"
   ]
  },
  {
   "cell_type": "code",
   "execution_count": 52,
   "id": "2d86c7f0",
   "metadata": {},
   "outputs": [
    {
     "name": "stdout",
     "output_type": "stream",
     "text": [
      "Fitting 5 folds for each of 20 candidates, totalling 100 fits\n"
     ]
    },
    {
     "data": {
      "text/plain": [
       "RandomizedSearchCV(cv=5, estimator=LogisticRegression(), n_iter=20,\n",
       "                   param_distributions={'C': array([1.00000000e-04, 2.63665090e-04, 6.95192796e-04, 1.83298071e-03,\n",
       "       4.83293024e-03, 1.27427499e-02, 3.35981829e-02, 8.85866790e-02,\n",
       "       2.33572147e-01, 6.15848211e-01, 1.62377674e+00, 4.28133240e+00,\n",
       "       1.12883789e+01, 2.97635144e+01, 7.84759970e+01, 2.06913808e+02,\n",
       "       5.45559478e+02, 1.43844989e+03, 3.79269019e+03, 1.00000000e+04]),\n",
       "                                        'penalty': ['l1', 'l2'],\n",
       "                                        'solver': ['liblinear']},\n",
       "                   verbose=True)"
      ]
     },
     "execution_count": 52,
     "metadata": {},
     "output_type": "execute_result"
    }
   ],
   "source": [
    "# Tune LogisticRegression \n",
    "np.random.seed(42)\n",
    "\n",
    "# Instantiate RandomizedSearchCV\n",
    "rs_log_reg = RandomizedSearchCV(LogisticRegression(), \n",
    "                                param_distributions=lr_grid,\n",
    "                                cv=5,\n",
    "                                n_iter=20,\n",
    "                                verbose=True)\n",
    "\n",
    "# Fit random hyperparameter search model for LogisticRegression\n",
    "rs_log_reg.fit(X_train_scaled, y_train)"
   ]
  },
  {
   "cell_type": "code",
   "execution_count": 53,
   "id": "5a384db6",
   "metadata": {},
   "outputs": [
    {
     "data": {
      "text/plain": [
       "0.8"
      ]
     },
     "execution_count": 53,
     "metadata": {},
     "output_type": "execute_result"
    }
   ],
   "source": [
    "# Best score found\n",
    "rs_log_reg.best_score_"
   ]
  },
  {
   "cell_type": "code",
   "execution_count": 54,
   "id": "13611ecd",
   "metadata": {},
   "outputs": [
    {
     "data": {
      "text/plain": [
       "LogisticRegression(C=29.763514416313132, penalty='l1', solver='liblinear')"
      ]
     },
     "execution_count": 54,
     "metadata": {},
     "output_type": "execute_result"
    }
   ],
   "source": [
    "# Best estimator found\n",
    "rs_log_reg.best_estimator_"
   ]
  },
  {
   "cell_type": "code",
   "execution_count": 55,
   "id": "e1317612",
   "metadata": {},
   "outputs": [
    {
     "name": "stdout",
     "output_type": "stream",
     "text": [
      "Fitting 5 folds for each of 20 candidates, totalling 100 fits\n"
     ]
    },
    {
     "data": {
      "text/plain": [
       "RandomizedSearchCV(cv=5, estimator=DecisionTreeClassifier(), n_iter=20,\n",
       "                   param_distributions={'max_depth': [5, 10, 15, 20, None],\n",
       "                                        'max_features': ['sqrt', 'log2', None],\n",
       "                                        'min_samples_leaf': [1, 2, 4],\n",
       "                                        'min_samples_split': [2, 5, 10]},\n",
       "                   verbose=True)"
      ]
     },
     "execution_count": 55,
     "metadata": {},
     "output_type": "execute_result"
    }
   ],
   "source": [
    "# Tune Decision Tree\n",
    "np.random.seed(42)\n",
    "\n",
    "# Instantiate RandomizedSearchCV\n",
    "rs_dt = RandomizedSearchCV(DecisionTreeClassifier(), \n",
    "                                param_distributions=dt_grid,\n",
    "                                cv=5,\n",
    "                                n_iter=20,\n",
    "                                verbose=True)\n",
    "\n",
    "# Fit to data\n",
    "rs_dt.fit(X_train_scaled, y_train)"
   ]
  },
  {
   "cell_type": "code",
   "execution_count": 56,
   "id": "436b9e2f",
   "metadata": {
    "scrolled": true
   },
   "outputs": [
    {
     "data": {
      "text/plain": [
       "0.7875"
      ]
     },
     "execution_count": 56,
     "metadata": {},
     "output_type": "execute_result"
    }
   ],
   "source": [
    "# Best score found\n",
    "rs_dt.best_score_"
   ]
  },
  {
   "cell_type": "code",
   "execution_count": 57,
   "id": "4cc6543e",
   "metadata": {},
   "outputs": [
    {
     "data": {
      "text/plain": [
       "DecisionTreeClassifier(max_depth=5, max_features='sqrt', min_samples_leaf=2,\n",
       "                       min_samples_split=5)"
      ]
     },
     "execution_count": 57,
     "metadata": {},
     "output_type": "execute_result"
    }
   ],
   "source": [
    "# Best estimator found\n",
    "rs_dt.best_estimator_"
   ]
  },
  {
   "cell_type": "code",
   "execution_count": 58,
   "id": "d588ea2a",
   "metadata": {
    "scrolled": true
   },
   "outputs": [
    {
     "data": {
      "text/html": [
       "<div>\n",
       "<style scoped>\n",
       "    .dataframe tbody tr th:only-of-type {\n",
       "        vertical-align: middle;\n",
       "    }\n",
       "\n",
       "    .dataframe tbody tr th {\n",
       "        vertical-align: top;\n",
       "    }\n",
       "\n",
       "    .dataframe thead th {\n",
       "        text-align: right;\n",
       "    }\n",
       "</style>\n",
       "<table border=\"1\" class=\"dataframe\">\n",
       "  <thead>\n",
       "    <tr style=\"text-align: right;\">\n",
       "      <th></th>\n",
       "      <th>Random Forest</th>\n",
       "      <th>Logistic Regression</th>\n",
       "      <th>Decision Tree</th>\n",
       "    </tr>\n",
       "  </thead>\n",
       "  <tbody>\n",
       "    <tr>\n",
       "      <th>Best score</th>\n",
       "      <td>0.825</td>\n",
       "      <td>0.8</td>\n",
       "      <td>0.7875</td>\n",
       "    </tr>\n",
       "  </tbody>\n",
       "</table>\n",
       "</div>"
      ],
      "text/plain": [
       "            Random Forest  Logistic Regression  Decision Tree\n",
       "Best score          0.825                  0.8         0.7875"
      ]
     },
     "execution_count": 58,
     "metadata": {},
     "output_type": "execute_result"
    }
   ],
   "source": [
    "# Compile best score for each model and print results\n",
    "tuning_results = {\"Random Forest\": [rs_rf.best_score_],\n",
    "                  \"Logistic Regression\": [rs_log_reg.best_score_],\n",
    "                  \"Decision Tree\": [rs_dt.best_score_] }\n",
    "\n",
    "tuning_df = pd.DataFrame(tuning_results, index=['Best score'])\n",
    "tuning_df"
   ]
  },
  {
   "cell_type": "markdown",
   "id": "31f630f1",
   "metadata": {},
   "source": [
    "- The best performing model after hyperparameter tuning is the random forest, followed by logistic regression and then decision"
   ]
  },
  {
   "cell_type": "markdown",
   "id": "ec0c2a08",
   "metadata": {},
   "source": [
    "### 4.5 Evaluate on the test set\n",
    "\n",
    "- The best performing models for random forest, logistic regression and decision tree were evlauated on the test set"
   ]
  },
  {
   "cell_type": "code",
   "execution_count": 59,
   "id": "d2d31d51",
   "metadata": {},
   "outputs": [],
   "source": [
    "# Put models in a dictionary\n",
    "final_models = {\"Logistic Regression\": rs_log_reg.best_estimator_,\n",
    "             \"Decision Tree\": rs_dt.best_estimator_  ,\n",
    "             \"Random Forest\": rs_rf.best_estimator_}\n",
    "\n",
    "test_results = []"
   ]
  },
  {
   "cell_type": "code",
   "execution_count": 60,
   "id": "3cbff4b9",
   "metadata": {
    "scrolled": true
   },
   "outputs": [],
   "source": [
    "# Fit and score models\n",
    "for name, classifier in final_models.items():\n",
    "    \n",
    "    np.random.seed(42)\n",
    "    \n",
    "    # Fit classifier \n",
    "    classifier.fit(X_train_scaled, y_train)\n",
    "    \n",
    "    # Calculate predicted labels\n",
    "    y_predicted = classifier.predict(X_test_scaled)\n",
    "    \n",
    "    # Calculate evaluation metrics \n",
    "    accuracy = accuracy_score(y_test, y_predicted)\n",
    "    precision = precision_score(y_test, y_predicted, average='macro')\n",
    "    recall = recall_score(y_test, y_predicted, average='macro')\n",
    "    f1 = f1_score(y_test, y_predicted, average='macro')\n",
    "    \n",
    "    # Organise metrics in dictionary\n",
    "    this_result = {'Classifier': name, 'Accuracy': accuracy, 'Precision' : precision, 'Recall':recall, 'F1-score' : f1}\n",
    "    test_results.append(this_result)\n",
    "\n",
    "# Convert to dataframe\n",
    "test_results_df = pd.DataFrame(test_results)"
   ]
  },
  {
   "cell_type": "code",
   "execution_count": 61,
   "id": "1393214b",
   "metadata": {},
   "outputs": [
    {
     "data": {
      "text/html": [
       "<div>\n",
       "<style scoped>\n",
       "    .dataframe tbody tr th:only-of-type {\n",
       "        vertical-align: middle;\n",
       "    }\n",
       "\n",
       "    .dataframe tbody tr th {\n",
       "        vertical-align: top;\n",
       "    }\n",
       "\n",
       "    .dataframe thead th {\n",
       "        text-align: right;\n",
       "    }\n",
       "</style>\n",
       "<table border=\"1\" class=\"dataframe\">\n",
       "  <thead>\n",
       "    <tr style=\"text-align: right;\">\n",
       "      <th></th>\n",
       "      <th>Classifier</th>\n",
       "      <th>Accuracy</th>\n",
       "      <th>Precision</th>\n",
       "      <th>Recall</th>\n",
       "      <th>F1-score</th>\n",
       "    </tr>\n",
       "  </thead>\n",
       "  <tbody>\n",
       "    <tr>\n",
       "      <th>0</th>\n",
       "      <td>Logistic Regression</td>\n",
       "      <td>0.850</td>\n",
       "      <td>0.923077</td>\n",
       "      <td>0.571429</td>\n",
       "      <td>0.583333</td>\n",
       "    </tr>\n",
       "    <tr>\n",
       "      <th>1</th>\n",
       "      <td>Decision Tree</td>\n",
       "      <td>0.750</td>\n",
       "      <td>0.567100</td>\n",
       "      <td>0.567100</td>\n",
       "      <td>0.567100</td>\n",
       "    </tr>\n",
       "    <tr>\n",
       "      <th>2</th>\n",
       "      <td>Random Forest</td>\n",
       "      <td>0.775</td>\n",
       "      <td>0.541667</td>\n",
       "      <td>0.525974</td>\n",
       "      <td>0.525692</td>\n",
       "    </tr>\n",
       "  </tbody>\n",
       "</table>\n",
       "</div>"
      ],
      "text/plain": [
       "            Classifier  Accuracy  Precision    Recall  F1-score\n",
       "0  Logistic Regression     0.850   0.923077  0.571429  0.583333\n",
       "1        Decision Tree     0.750   0.567100  0.567100  0.567100\n",
       "2        Random Forest     0.775   0.541667  0.525974  0.525692"
      ]
     },
     "execution_count": 61,
     "metadata": {},
     "output_type": "execute_result"
    }
   ],
   "source": [
    "test_results_df"
   ]
  },
  {
   "cell_type": "markdown",
   "id": "6523f3e7",
   "metadata": {},
   "source": [
    "## 5 Summary of findings"
   ]
  },
  {
   "cell_type": "markdown",
   "id": "17dac240",
   "metadata": {},
   "source": [
    "- Although the random forest performed best after baseline modelling and hyperparameter tuning on the training set, the logistic regression outperformed the other models on the test set across accuracy, precision, recall and F1 scores\n",
    "- For all models, recall scores were average (50%+), indicating that a considerable number of false negatives (patients predicted not to survive, but survived)\n",
    "- Additional things that can be explored:\n",
    "    - Collect more data, collect data on more meaningful features and perform feature engineering using domain knowledge \n",
    "    - Explore techniques to address class imbalance\n",
    "    - Try different machine learning models (e.g. XGBoost, CatBoost)\n",
    "    - Use GridSearchCV for more fine-grained hyperparameter tuning\n"
   ]
  },
  {
   "cell_type": "code",
   "execution_count": null,
   "id": "fb133539",
   "metadata": {},
   "outputs": [],
   "source": []
  }
 ],
 "metadata": {
  "kernelspec": {
   "display_name": "Python 3 (ipykernel)",
   "language": "python",
   "name": "python3"
  },
  "language_info": {
   "codemirror_mode": {
    "name": "ipython",
    "version": 3
   },
   "file_extension": ".py",
   "mimetype": "text/x-python",
   "name": "python",
   "nbconvert_exporter": "python",
   "pygments_lexer": "ipython3",
   "version": "3.9.12"
  }
 },
 "nbformat": 4,
 "nbformat_minor": 5
}
